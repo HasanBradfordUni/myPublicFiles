{
  "nbformat": 4,
  "nbformat_minor": 0,
  "metadata": {
    "colab": {
      "provenance": []
    },
    "kernelspec": {
      "name": "python3",
      "display_name": "Python 3"
    },
    "language_info": {
      "name": "python"
    }
  },
  "cells": [
    {
      "cell_type": "code",
      "execution_count": 4,
      "metadata": {
        "colab": {
          "base_uri": "https://localhost:8080/"
        },
        "id": "3qKJDUfq_uWv",
        "outputId": "61290a4e-c916-4d74-f807-d53110a1cd61"
      },
      "outputs": [
        {
          "output_type": "stream",
          "name": "stdout",
          "text": [
            "Enter a number: 5\n",
            "1 x 1 = 1\n",
            "1 x 2 = 2\n",
            "1 x 3 = 3\n",
            "1 x 4 = 4\n",
            "1 x 5 = 5\n",
            "2 x 1 = 2\n",
            "2 x 2 = 4\n",
            "2 x 3 = 6\n",
            "2 x 4 = 8\n",
            "2 x 5 = 10\n",
            "3 x 1 = 3\n",
            "3 x 2 = 6\n",
            "3 x 3 = 9\n",
            "3 x 4 = 12\n",
            "3 x 5 = 15\n",
            "4 x 1 = 4\n",
            "4 x 2 = 8\n",
            "4 x 3 = 12\n",
            "4 x 4 = 16\n",
            "4 x 5 = 20\n",
            "5 x 1 = 5\n",
            "5 x 2 = 10\n",
            "5 x 3 = 15\n",
            "5 x 4 = 20\n",
            "5 x 5 = 25\n"
          ]
        }
      ],
      "source": [
        "def multiplicationTable(num):\n",
        "  for i in range(1,num+1):\n",
        "    for j in range(1,num+1):\n",
        "      print(i,\"x\",j,\"=\",i*j)\n",
        "\n",
        "number = int(input(\"Enter a number: \"))\n",
        "multiplicationTable(number)"
      ]
    },
    {
      "cell_type": "code",
      "source": [
        "def isPrime(num):\n",
        "  for i in range(2,num):\n",
        "    if num%i==0:\n",
        "      return False\n",
        "  return True\n",
        "\n",
        "number = int(input(\"Enter a number: \"))\n",
        "if isPrime(number):\n",
        "  print(number,\"is a prime number\")\n",
        "else:\n",
        "  print(number,\"is not a prime number\")"
      ],
      "metadata": {
        "colab": {
          "base_uri": "https://localhost:8080/"
        },
        "id": "ed2HUlwABK4A",
        "outputId": "1f82357d-bfc5-4d3b-f53d-effa55f0053e"
      },
      "execution_count": 6,
      "outputs": [
        {
          "output_type": "stream",
          "name": "stdout",
          "text": [
            "Enter a number: 3\n",
            "3 is a prime number\n"
          ]
        }
      ]
    },
    {
      "cell_type": "code",
      "source": [
        "def findFactorial(num):\n",
        "  factorial = 1\n",
        "  for i in range(1,num+1):\n",
        "    factorial *= i\n",
        "  return factorial\n",
        "\n",
        "number = int(input(\"Enter a number: \"))\n",
        "print(\"Factorial of\",number,\"is\",findFactorial(number))"
      ],
      "metadata": {
        "colab": {
          "base_uri": "https://localhost:8080/"
        },
        "id": "TcdyOgh1BXY_",
        "outputId": "7bf4a8da-4839-43dc-898d-3bf65dd316a7"
      },
      "execution_count": 10,
      "outputs": [
        {
          "output_type": "stream",
          "name": "stdout",
          "text": [
            "Enter a number: 3\n",
            "Factorial of 3 is 6\n"
          ]
        }
      ]
    },
    {
      "cell_type": "code",
      "source": [
        "class Chatbot():\n",
        "  def __init__(self):\n",
        "    self.options = {\"Hi\": \"Hello\", \"How are you?\": \"I am fine\", \"What is your name?\": \"My name is Chatbot\"}\n",
        "\n",
        "  def chat(self):\n",
        "    while True:\n",
        "      user_input = input(\"You: \")\n",
        "      if user_input in self.options:\n",
        "        print(\"Chatbot: \",self.options[user_input])\n",
        "      elif user_input.lower() == \"bye\":\n",
        "        print(\"Chatbot: Bye\")\n",
        "        break\n",
        "      else:\n",
        "        print(\"Chatbot: Sorry, I don't understand\")\n",
        "\n",
        "chatbot = Chatbot()\n",
        "chatbot.chat()"
      ],
      "metadata": {
        "colab": {
          "base_uri": "https://localhost:8080/"
        },
        "id": "rhfOmk2-CGBz",
        "outputId": "4de1463e-ce1b-4419-8121-ea40f2e6bdef"
      },
      "execution_count": 12,
      "outputs": [
        {
          "output_type": "stream",
          "name": "stdout",
          "text": [
            "You: Hi\n",
            "Chatbot:  Hello\n",
            "You: How are you?\n",
            "Chatbot:  I am fine\n",
            "You: Great day, init?\n",
            "Chatbot: Sorry, I don't understand\n",
            "You: What is your name?\n",
            "Chatbot:  My name is Chatbot\n",
            "You: bye\n",
            "Chatbot: Bye\n"
          ]
        }
      ]
    }
  ]
}