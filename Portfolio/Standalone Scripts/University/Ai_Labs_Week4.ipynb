{
  "nbformat": 4,
  "nbformat_minor": 0,
  "metadata": {
    "colab": {
      "provenance": [],
      "toc_visible": true
    },
    "kernelspec": {
      "name": "python3",
      "display_name": "Python 3"
    },
    "language_info": {
      "name": "python"
    }
  },
  "cells": [
    {
      "cell_type": "markdown",
      "source": [
        "## Training Data"
      ],
      "metadata": {
        "id": "IH6k05n02H-_"
      }
    },
    {
      "cell_type": "code",
      "execution_count": 4,
      "metadata": {
        "colab": {
          "base_uri": "https://localhost:8080/"
        },
        "id": "KGvhs8IA1YbV",
        "outputId": "c894a5dc-80d9-4688-ec54-2455130be9d2"
      },
      "outputs": [
        {
          "output_type": "stream",
          "name": "stdout",
          "text": [
            "[(1, 1), (2, 3), (4, 3)]\n"
          ]
        }
      ],
      "source": [
        "x=[1,2,4]\n",
        "y=[1,3,3]\n",
        "\n",
        "#Create a trainingData vector made of (xi,yi) values\n",
        "trainingData = []\n",
        "for i in range(len(x)):\n",
        "    trainingData.append((x[i],y[i]))\n",
        "print(trainingData)"
      ]
    },
    {
      "cell_type": "markdown",
      "source": [
        "## Feature extractor"
      ],
      "metadata": {
        "id": "9PHlmo8025ov"
      }
    },
    {
      "cell_type": "code",
      "source": [
        "def phi(x):\n",
        "  return (1,x)"
      ],
      "metadata": {
        "id": "gF7BhdS_247g"
      },
      "execution_count": 5,
      "outputs": []
    },
    {
      "cell_type": "markdown",
      "source": [
        "## Loss function"
      ],
      "metadata": {
        "id": "Khk4h6QO42D3"
      }
    },
    {
      "cell_type": "code",
      "source": [
        "import numpy as np\n",
        "def trainLoss(w):\n",
        "  sum = 0\n",
        "  for num in range(len(trainingData)):\n",
        "    sum += (np.dot(phi(trainingData[num][0]),w) - trainingData[num][1])**2\n",
        "  loss = (1/len(trainingData)*sum)\n",
        "  print(loss)\n",
        "  return loss"
      ],
      "metadata": {
        "id": "4ba1xdHZ41bP"
      },
      "execution_count": 20,
      "outputs": []
    },
    {
      "cell_type": "markdown",
      "source": [
        "### Test 1\n"
      ],
      "metadata": {
        "id": "2lCzMeQOASAP"
      }
    },
    {
      "cell_type": "code",
      "source": [],
      "metadata": {
        "id": "buzIiXdPDPUx"
      },
      "execution_count": null,
      "outputs": []
    },
    {
      "cell_type": "code",
      "source": [
        "loss = trainLoss([0.00005,0.0002])\n",
        "print(\"The loss is: \", loss)\n"
      ],
      "metadata": {
        "colab": {
          "base_uri": "https://localhost:8080/"
        },
        "id": "gY1PYXBzAWx0",
        "outputId": "a458b92b-4189-4935-8e6e-3216c9dab129"
      },
      "execution_count": 21,
      "outputs": [
        {
          "output_type": "stream",
          "name": "stdout",
          "text": [
            "6.330566995833334\n",
            "The loss is:  6.330566995833334\n"
          ]
        }
      ]
    }
  ]
}