{
  "nbformat": 4,
  "nbformat_minor": 0,
  "metadata": {
    "colab": {
      "provenance": []
    },
    "kernelspec": {
      "name": "python3",
      "display_name": "Python 3"
    },
    "language_info": {
      "name": "python"
    }
  },
  "cells": [
    {
      "cell_type": "code",
      "execution_count": null,
      "metadata": {
        "colab": {
          "base_uri": "https://localhost:8080/"
        },
        "id": "A-UpAoQhr8jd",
        "outputId": "b8a633bf-a20c-42c0-a057-b704945f8a7f"
      },
      "outputs": [
        {
          "output_type": "stream",
          "name": "stdout",
          "text": [
            "Enter a string: random\n",
            "r\n",
            "n\n",
            "o\n"
          ]
        }
      ],
      "source": [
        "string = input(\"Enter a string: \")\n",
        "string_length = len(string)\n",
        "\n",
        "for num in range(0, string_length, 2):\n",
        "    #print(num)\n",
        "    print(string[num])"
      ]
    },
    {
      "cell_type": "code",
      "source": [
        "string = input(\"Enter a string: \")\n",
        "n = int(input(\"Enter a number: \"))\n",
        "print(string[n:])"
      ],
      "metadata": {
        "colab": {
          "base_uri": "https://localhost:8080/"
        },
        "id": "EcSnwmuM0g4s",
        "outputId": "66ebb4eb-b420-4dea-a83f-a48995d9bab0"
      },
      "execution_count": null,
      "outputs": [
        {
          "output_type": "stream",
          "name": "stdout",
          "text": [
            "Enter a string: python\n",
            "Enter a number: 4\n",
            "on\n"
          ]
        }
      ]
    },
    {
      "cell_type": "code",
      "source": [
        "myList = []\n",
        "for num in range(0, 5):\n",
        "    num = int(input(\"Enter a number: \"))\n",
        "    myList.append(num)\n",
        "if myList[0] == myList[-1]:\n",
        "    print(\"True\")\n",
        "else:\n",
        "    print(\"False\")"
      ],
      "metadata": {
        "colab": {
          "base_uri": "https://localhost:8080/"
        },
        "id": "Iq0z5ZmU4xZJ",
        "outputId": "02b12534-861c-4ad8-a46c-9b6b410ec7cd"
      },
      "execution_count": null,
      "outputs": [
        {
          "output_type": "stream",
          "name": "stdout",
          "text": [
            "Enter a number: 5\n",
            "Enter a number: 3\n",
            "Enter a number: 4\n",
            "Enter a number: 1\n",
            "Enter a number: 45\n",
            "False\n"
          ]
        }
      ]
    },
    {
      "cell_type": "code",
      "source": [],
      "metadata": {
        "id": "rhwMQwSN9YCo"
      },
      "execution_count": null,
      "outputs": []
    }
  ]
}